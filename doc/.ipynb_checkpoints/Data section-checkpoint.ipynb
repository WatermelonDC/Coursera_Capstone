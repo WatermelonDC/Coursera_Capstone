{
 "cells": [
  {
   "cell_type": "markdown",
   "metadata": {},
   "source": [
    "### Data section"
   ]
  },
  {
   "cell_type": "markdown",
   "metadata": {},
   "source": [
    "To start our mini business we should get all the necessary data performing some steps:"
   ]
  },
  {
   "cell_type": "markdown",
   "metadata": {},
   "source": [
    "1) We should collect all information about Moscow's parks. Should parse *Wikipedia's page: https://ru.wikipedia.org/wiki/%D0%A1%D0%B0%D0%B4%D1%8B_%D0%B8_%D0%BF%D0%B0%D1%80%D0%BA%D0%B8_%D0%9C%D0%BE%D1%81%D0%BA%D0%B2%D1%8B*. Using this page we can only take **reigion**, where park placed, **park's name** and **link to park's page**.  \n",
    "  \n",
    "2) After that we should create function will receive **the parks coordinates** by links in step 1.  \n",
    "  \n",
    "3) After collecting all coordinates of parks in Moscow we can collect information about it’s surroundings via Foursquare API. \n",
    "  \n",
    "4) After that we can aggregate and analyze data like in previous tasks with Toronto data. These steps gives us useful information to detect reasons of choosing best location for part-time-job in Moscow city."
   ]
  }
 ],
 "metadata": {
  "kernelspec": {
   "display_name": "Python 3",
   "language": "python",
   "name": "python3"
  },
  "language_info": {
   "codemirror_mode": {
    "name": "ipython",
    "version": 3
   },
   "file_extension": ".py",
   "mimetype": "text/x-python",
   "name": "python",
   "nbconvert_exporter": "python",
   "pygments_lexer": "ipython3",
   "version": "3.7.3"
  }
 },
 "nbformat": 4,
 "nbformat_minor": 2
}
