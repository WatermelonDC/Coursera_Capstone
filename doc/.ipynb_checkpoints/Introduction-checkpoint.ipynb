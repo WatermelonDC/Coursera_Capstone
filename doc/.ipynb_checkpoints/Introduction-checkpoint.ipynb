{
 "cells": [
  {
   "cell_type": "markdown",
   "metadata": {},
   "source": [
    "## Introduction  \n",
    "### Business Problem"
   ]
  },
  {
   "cell_type": "markdown",
   "metadata": {},
   "source": [
    "For the majority of entrepreneurs in the field there is always the problem of choosing a place for a **restaurant/cafe**. So, how we can find and select the best place for starting business?"
   ]
  },
  {
   "cell_type": "markdown",
   "metadata": {},
   "source": [
    "There are always a lot of factors affecting the success of establishments in the area. We can develop algorithm to calculate the probability of success or profitability in area and choose best location for new business. We must identify the factors affecting the success of a business and collect them."
   ]
  },
  {
   "cell_type": "markdown",
   "metadata": {},
   "source": [
    "After that we can analyse data and develop algorithm for calculating area profitability score."
   ]
  },
  {
   "cell_type": "markdown",
   "metadata": {},
   "source": [
    "I choose **Moscow, Russia** to like a sample to develop algorithm."
   ]
  }
 ],
 "metadata": {
  "kernelspec": {
   "display_name": "Python 3",
   "language": "python",
   "name": "python3"
  },
  "language_info": {
   "name": ""
  }
 },
 "nbformat": 4,
 "nbformat_minor": 2
}
