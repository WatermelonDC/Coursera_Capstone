{
 "cells": [
  {
   "cell_type": "markdown",
   "metadata": {},
   "source": [
    "# Capstone Project - The Battle of the Neighborhoods (Week 2) <a name=\"header\"></a>"
   ]
  },
  {
   "cell_type": "markdown",
   "metadata": {},
   "source": [
    "## Table of contents \n",
    "* [Introduction: Business Problem](#introduction)\n",
    "* [Data](#data)\n",
    "* [Methodology](#methodology)\n",
    "* [Results and Discussion](#results)\n",
    "* [Conclusion](#conclusion)"
   ]
  },
  {
   "cell_type": "markdown",
   "metadata": {},
   "source": [
    "## Introduction: Business Problem <a name=\"introduction\"></a>"
   ]
  },
  {
   "cell_type": "markdown",
   "metadata": {},
   "source": [
    "When you’re young you have great ambitions to create something new but most of the time you don’t have so much money. Therefore, the first step you could take is to make your own part-time workplace, which will bring you  additional income."
   ]
  },
  {
   "cell_type": "markdown",
   "metadata": {},
   "source": [
    "That’s why my suggestion is to consider the possibility of part-time work in **the Moscow parks**. These are great places because Moscow parks have a lot of sights which lure tourists. You can place there **ice cream shop, souvenir shop or a mobile skate rental**. "
   ]
  },
  {
   "cell_type": "markdown",
   "metadata": {},
   "source": [
    "Keep in mind that we have very limited amount of earnings we ought to make a well-thought-out decision choosing a place for our needs. We can develop an algorithm to learn more about location considering such characteristics as: passability, approachability, distance from the city center and presence of competitors. In the end, we will be able to analyze the probability of success or profitability in area and choose best location for part-time job."
   ]
  },
  {
   "cell_type": "markdown",
   "metadata": {},
   "source": [
    "## Data <a name=\"data\"></a>"
   ]
  },
  {
   "cell_type": "markdown",
   "metadata": {},
   "source": [
    "To start our mini business we should get all the necessary data performing some steps:"
   ]
  },
  {
   "cell_type": "markdown",
   "metadata": {},
   "source": [
    "1) We should collect all information about Moscow's parks. Should parse *Wikipedia's page: https://ru.wikipedia.org/wiki/%D0%A1%D0%B0%D0%B4%D1%8B_%D0%B8_%D0%BF%D0%B0%D1%80%D0%BA%D0%B8_%D0%9C%D0%BE%D1%81%D0%BA%D0%B2%D1%8B*. Using this page we can only take **reigion**, where park placed, **park's name** and **link to park's page**.  \n",
    "  \n",
    "2) After that we should create function will receive **the parks coordinates** by links in step 1.  \n",
    "  \n",
    "3) After collecting all coordinates of parks in Moscow we can collect information about it’s surroundings via Foursquare API. \n",
    "  \n",
    "4) After that we can aggregate and analyze data like in previous tasks with Toronto data. These steps gives us useful information to detect reasons of choosing best location for part-time-job in Moscow city."
   ]
  },
  {
   "cell_type": "markdown",
   "metadata": {},
   "source": [
    "## Methodology <a name=\"methodology\"></a>"
   ]
  },
  {
   "cell_type": "markdown",
   "metadata": {},
   "source": [
    "After collecting data from Foursquare for each parks of Moscow we should analyze data to find best place to start our work.  \n",
    "We can split methodology in these steps:"
   ]
  },
  {
   "cell_type": "markdown",
   "metadata": {},
   "source": [
    "1) Join venues and parks' data  \n",
    "2) Find out how many unique categories can be curated from all the returned data  \n",
    "3) Calculate percentage of each venue cathegories in each region  \n",
    "4) Get top 10 venue cathegory in each region  \n",
    "5) Run k-means to cluster the parks into 5 clusters  \n",
    "6) Find cluster with bigger count of regions with the smallest number of cafes  \n",
    "7) Build map with colored clusteres  \n",
    "8) Build heat map with colored clusteres  \n",
    "9) Analyze each potential region  "
   ]
  },
  {
   "cell_type": "markdown",
   "metadata": {},
   "source": [
    "## Results and Discussion <a name=\"results\"></a>"
   ]
  },
  {
   "cell_type": "markdown",
   "metadata": {},
   "source": [
    "Therefore, after analyzing we can see Moscow map with clustered parks:\n",
    "* Dark green and green markers shows parks with plenty of cafes and restaurants. \n",
    "* Purple markers - places with zoo and film studio.  \n",
    "* Light blue and blue markers detects parks with many sport grounds."
   ]
  },
  {
   "cell_type": "markdown",
   "metadata": {},
   "source": [
    "![1.PNG](img/1.PNG)"
   ]
  },
  {
   "cell_type": "markdown",
   "metadata": {},
   "source": [
    "For our purpose (part-time business-project), the best places are colored with purple, light blue and blue markers. Those areas have lower competition than the others."
   ]
  },
  {
   "cell_type": "markdown",
   "metadata": {},
   "source": [
    "![2.PNG](img/2.PNG)"
   ]
  },
  {
   "cell_type": "markdown",
   "metadata": {},
   "source": [
    "However, keeping in mind the fact that we want to open either *ice cream shop, souvenir shop or mobile skate rental* for tourists we must exclude points in red circles, because they are too far from city center. Therefore, we should select one of markers circled in blue color.  "
   ]
  },
  {
   "cell_type": "markdown",
   "metadata": {},
   "source": [
    "![3.PNG](img/3.PNG)"
   ]
  },
  {
   "cell_type": "markdown",
   "metadata": {},
   "source": [
    "Besides, we can choose parks from top 10 parks by area except parks from green zones on map (these areas with great competition)."
   ]
  },
  {
   "cell_type": "markdown",
   "metadata": {},
   "source": [
    "![5.PNG](img/5.PNG)\n",
    "![6.PNG](img/6.PNG)"
   ]
  },
  {
   "cell_type": "markdown",
   "metadata": {},
   "source": [
    "According to all of the above, I recommend one of these places as the best one to open **ice cream shop, souvenir shop or mobile skate rental** on summer time:\n",
    "* 'Главный ботанический сад имени Н. В. Цицина РАН'  \n",
    "* 'Тимирязевский парк'  \n",
    "* 'Битцевский лес'  \n",
    "* 'Измайловский парк'  \n",
    "* 'Парк Сокольники'"
   ]
  },
  {
   "cell_type": "markdown",
   "metadata": {},
   "source": [
    "![7.png](img/7.PNG)"
   ]
  },
  {
   "cell_type": "markdown",
   "metadata": {},
   "source": [
    "## Conclusion <a name=\"conclusion\"></a>"
   ]
  },
  {
   "cell_type": "markdown",
   "metadata": {},
   "source": [
    "In this paper, an analysis was conducted to choose one of the areas in city to start your own mini business.  \n",
    "The startup location was taken in Moscow and the data we got is from the Foursquare service.  \n",
    "As a result, 5 main points on the city map were identified as more likely to place a cafe and recommendations were given on the choice of location for placing ice cream shop, souvenir shop or a mobile skate rental.  \n",
    "This work can be considered as a basis for obtaining similar analytics in other cities."
   ]
  }
 ],
 "metadata": {
  "kernelspec": {
   "display_name": "Python 3",
   "language": "python",
   "name": "python3"
  },
  "language_info": {
   "codemirror_mode": {
    "name": "ipython",
    "version": 3
   },
   "file_extension": ".py",
   "mimetype": "text/x-python",
   "name": "python",
   "nbconvert_exporter": "python",
   "pygments_lexer": "ipython3",
   "version": "3.7.3"
  }
 },
 "nbformat": 4,
 "nbformat_minor": 2
}
