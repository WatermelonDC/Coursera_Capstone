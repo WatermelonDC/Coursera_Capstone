{
 "cells": [
  {
   "cell_type": "markdown",
   "metadata": {},
   "source": [
    "# Capstone Project - The Battle of the Neighborhoods (Week 2) <a name=\"header\"></a>"
   ]
  },
  {
   "cell_type": "markdown",
   "metadata": {},
   "source": [
    "## Table of contents \n",
    "* [Introduction: Business Problem](#introduction)\n",
    "* [Data](#data)\n",
    "* [Methodology](#methodology)\n",
    "* [Results and Discussion](#results)\n",
    "* [Conclusion](#conclusion)"
   ]
  },
  {
   "cell_type": "markdown",
   "metadata": {},
   "source": [
    "## Introduction: Business Problem <a name=\"introduction\"></a>"
   ]
  },
  {
   "cell_type": "markdown",
   "metadata": {},
   "source": [
    "The most students have one common problem. Money. I mean situation when you're so young, and you haven't enough for starting great business project or some startup. And first idea in your mind, how can I earn some money for my next step? (business, startup)  "
   ]
  },
  {
   "cell_type": "markdown",
   "metadata": {},
   "source": [
    "And I propose to consider the possibility of part-time work in **the parks of Moscow**. This is a great places because Moscow's parks have a lot of sights which luring tourists. And you can place here **ice cream shop, souvenir shop, mobile skate rental**."
   ]
  },
  {
   "cell_type": "markdown",
   "metadata": {},
   "source": [
    "We can develop algorithm to calculate the probability of success or profitability in area and choose best location for part-time work."
   ]
  },
  {
   "cell_type": "markdown",
   "metadata": {},
   "source": [
    "## Data <a name=\"data\"></a>"
   ]
  },
  {
   "cell_type": "markdown",
   "metadata": {},
   "source": [
    "For get all necessary data for start our mini business we should perform theese steps:"
   ]
  },
  {
   "cell_type": "markdown",
   "metadata": {},
   "source": [
    "1) We should collect all information about Moscow's parks. Should parse *Wikipedia's page: https://ru.wikipedia.org/wiki/%D0%A1%D0%B0%D0%B4%D1%8B_%D0%B8_%D0%BF%D0%B0%D1%80%D0%BA%D0%B8_%D0%9C%D0%BE%D1%81%D0%BA%D0%B2%D1%8B*. In this page we can take only **reigion**, where park placed, **park's name** and **link to park's page**.  \n",
    "  \n",
    "2) After that we should create function which will receive **the parks coordinates** by links in step 1.  \n",
    "  \n",
    "3) After collecting all coordinates of parks in Moscow. We can collect information about places near our parks via Foursquare's API.  \n",
    "  \n",
    "4) After that we can aggregate and analyze data like in previous tasks with Toronto data. Can get useful information to dettect reasons of choosing best location for part-time work in Moscow city."
   ]
  },
  {
   "cell_type": "markdown",
   "metadata": {},
   "source": [
    "## Methodology <a name=\"methodology\"></a>"
   ]
  },
  {
   "cell_type": "markdown",
   "metadata": {},
   "source": [
    "After collecting data from Foursquare for each parks of Moscow we should analyze data to find best place to start our work.  \n",
    "We can split methodology in these steps:"
   ]
  },
  {
   "cell_type": "markdown",
   "metadata": {},
   "source": [
    "1) Join venues and parks' data  \n",
    "2) Find out how many unique categories can be curated from all the returned data  \n",
    "3) Calculate percentage of each venue cathegories in each region  \n",
    "4) Get top 10 venue cathegory in each region  \n",
    "5) Run k-means to cluster the parks into 5 clusters  \n",
    "6) Find cluster with bigger count of regions with the smallest number of cafes  \n",
    "7) Build map with colored clusteres  \n",
    "8) Build heat map with colored clusteres  \n",
    "9) Analyze each potential region  "
   ]
  },
  {
   "cell_type": "markdown",
   "metadata": {},
   "source": [
    "## Results and Discussion <a name=\"results\"></a>"
   ]
  },
  {
   "cell_type": "markdown",
   "metadata": {},
   "source": [
    "So, after analyzing we can see Moscow map with clustered parks:  \n",
    "* Dark green and green parks with plenty of cafes and restaurants.  \n",
    "* Purple - places with zoo and film studio.  \n",
    "* Lightblue and blue with a lot of sports grounds."
   ]
  },
  {
   "cell_type": "markdown",
   "metadata": {},
   "source": [
    "<img src=\"img/1.png\">"
   ]
  },
  {
   "cell_type": "markdown",
   "metadata": {},
   "source": [
    "For our purpose (part-time work) the best place with purple, lightblue and blue markers. It's area's with low competition."
   ]
  },
  {
   "cell_type": "markdown",
   "metadata": {},
   "source": [
    "<img src=\"img/2.png\">"
   ]
  },
  {
   "cell_type": "markdown",
   "metadata": {},
   "source": [
    "But remembering the fact the we want to open one of *ice cream shop or souvenir shop, mobile skate rental* for tourists. We must exclude points in red circles, because it's so far from city's center. And we should selec points in blue circle."
   ]
  },
  {
   "cell_type": "markdown",
   "metadata": {},
   "source": [
    "<img src=\"img/3.png\">"
   ]
  },
  {
   "cell_type": "markdown",
   "metadata": {},
   "source": [
    "Besides, we can shoose parks from top 10 parks by area. And this parks shouldn't be in green zones on map (this area with great competition)."
   ]
  },
  {
   "cell_type": "markdown",
   "metadata": {},
   "source": [
    "<img src=\"img/5.png\">  \n",
    "<img src=\"img/6.png\">"
   ]
  },
  {
   "cell_type": "markdown",
   "metadata": {},
   "source": [
    "So, this place that i recomend for place here **ice cream shop, souvenir shop, mobile skate rental** on summer time:  \n",
    "* 'Главный ботанический сад имени Н. В. Цицина РАН'  \n",
    "* 'Тимирязевский парк'  \n",
    "* 'Битцевский лес'  \n",
    "* 'Измайловский парк'  \n",
    "* 'Парк Сокольники'"
   ]
  },
  {
   "cell_type": "markdown",
   "metadata": {},
   "source": [
    "<img src=\"img/7.png\">"
   ]
  },
  {
   "cell_type": "markdown",
   "metadata": {},
   "source": [
    "## Conclusion <a name=\"conclusion\"></a>"
   ]
  },
  {
   "cell_type": "markdown",
   "metadata": {},
   "source": [
    "In this paper, an analysis was conducted on the choice of the area of the city to start mini business.  \n",
    "The basis was taken Moscow and the data from the service Foursquare.  \n",
    "As a result, 5 main points of the city were identified in which it is best to place a cafe and recommendations were given on the choice of locationfor placing here ice cream shop, souvenir shop, mobile skate rental.  \n",
    "This work can be taken as a basis for obtaining similar analytics in other cities."
   ]
  }
 ],
 "metadata": {
  "kernelspec": {
   "display_name": "Python 3",
   "language": "python",
   "name": "python3"
  },
  "language_info": {
   "codemirror_mode": {
    "name": "ipython",
    "version": 3
   },
   "file_extension": ".py",
   "mimetype": "text/x-python",
   "name": "python",
   "nbconvert_exporter": "python",
   "pygments_lexer": "ipython3",
   "version": "3.7.3"
  }
 },
 "nbformat": 4,
 "nbformat_minor": 2
}
