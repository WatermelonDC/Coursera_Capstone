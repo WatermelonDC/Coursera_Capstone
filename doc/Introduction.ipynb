{
 "cells": [
  {
   "cell_type": "markdown",
   "metadata": {},
   "source": [
    "## Introduction  \n",
    "### Business Problem"
   ]
  },
  {
   "cell_type": "markdown",
   "metadata": {},
   "source": [
    "When you’re young you have great ambitions to create something new but most of the time you don’t have so much money. Therefore, the first step you could take is to make your own part-time workplace, which will bring you  additional income."
   ]
  },
  {
   "cell_type": "markdown",
   "metadata": {},
   "source": [
    "That’s why my suggestion is to consider the possibility of part-time work in **the Moscow parks**. These are great places because Moscow parks have a lot of sights which lure tourists. You can place there **ice cream shop, souvenir shop or a mobile skate rental**. "
   ]
  },
  {
   "cell_type": "markdown",
   "metadata": {},
   "source": [
    "Keep in mind that we have very limited amount of earnings we ought to make a well-thought-out decision choosing a place for our needs. We can develop an algorithm to learn more about location considering such characteristics as: passability, approachability, distance from the city center and presence of competitors. In the end, we will be able to analyze the probability of success or profitability in area and choose best location for part-time job.After that we can analyse data and develop algorithm for calculating area profitability score."
   ]
  }
 ],
 "metadata": {
  "kernelspec": {
   "display_name": "Python 3",
   "language": "python",
   "name": "python3"
  },
  "language_info": {
   "codemirror_mode": {
    "name": "ipython",
    "version": 3
   },
   "file_extension": ".py",
   "mimetype": "text/x-python",
   "name": "python",
   "nbconvert_exporter": "python",
   "pygments_lexer": "ipython3",
   "version": "3.7.3"
  }
 },
 "nbformat": 4,
 "nbformat_minor": 2
}
